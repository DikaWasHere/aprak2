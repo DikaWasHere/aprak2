{
  "cells": [
    {
      "cell_type": "markdown",
      "metadata": {
        "id": "P7oPWCKAMfCy"
      },
      "source": [
        "**Andika Putra Wijaya - 168**\n",
        "\n",
        "**Seleksi Asisten Praktikum Kecerdasan Buatan**\n",
        "\n",
        "---"
      ]
    },
    {
      "cell_type": "markdown",
      "metadata": {
        "id": "kRx-cwkLNKn6"
      },
      "source": [
        "## Mana functionnya, mana input, proses, dan Outputnya"
      ]
    },
    {
      "cell_type": "markdown",
      "metadata": {
        "id": "5_Sp90YpMwgx"
      },
      "source": [
        "Function"
      ]
    },
    {
      "cell_type": "code",
      "execution_count": 1,
      "metadata": {
        "id": "E8gmhOi8MQ4G"
      },
      "outputs": [],
      "source": [
        "def total(harga,jumlah):\n",
        "    \"\"\"fungsi untuk menghitung Total bayar\"\"\"\n",
        "    return harga*jumlah"
      ]
    },
    {
      "cell_type": "markdown",
      "metadata": {
        "id": "7us_QXMpNC70"
      },
      "source": [
        "Input"
      ]
    },
    {
      "cell_type": "code",
      "execution_count": 2,
      "metadata": {
        "colab": {
          "base_uri": "https://localhost:8080/"
        },
        "id": "UTnqDZwvMZhc",
        "outputId": "020cd27e-e83d-4294-ba53-c64373fa194e"
      },
      "outputs": [
        {
          "name": "stdout",
          "output_type": "stream",
          "text": [
            "masukan harga barang: 20000\n",
            "masukan jumlah baju yang dibeli: 3\n"
          ]
        }
      ],
      "source": [
        "harga = int(input(\"masukan harga barang: \"))\n",
        "jumlah = int(input(\"masukan jumlah baju yang dibeli: \"))"
      ]
    },
    {
      "cell_type": "markdown",
      "metadata": {
        "id": "YmZVmgU-M506"
      },
      "source": [
        "Process"
      ]
    },
    {
      "cell_type": "code",
      "execution_count": 7,
      "metadata": {
        "id": "cv0EjCgjMa8v"
      },
      "outputs": [],
      "source": [
        "Total = total(harga,jumlah)\n",
        "if Total > 100000:\n",
        "    Total = Total-0.05*Total"
      ]
    },
    {
      "cell_type": "markdown",
      "metadata": {
        "id": "Qp1DqjRaM8LZ"
      },
      "source": [
        "Output"
      ]
    },
    {
      "cell_type": "code",
      "execution_count": 8,
      "metadata": {
        "colab": {
          "base_uri": "https://localhost:8080/"
        },
        "id": "5Ictz0juMdlW",
        "outputId": "3cad1e9e-43aa-4289-a1fd-8e619d910fc7"
      },
      "outputs": [
        {
          "name": "stdout",
          "output_type": "stream",
          "text": [
            "Total Harga =  Rp. 60000\n"
          ]
        }
      ],
      "source": [
        "print(\"Total Harga = \", \"Rp.\",Total)"
      ]
    },
    {
      "cell_type": "code",
      "execution_count": 11,
      "metadata": {
        "colab": {
          "base_uri": "https://localhost:8080/"
        },
        "id": "HoX9RwPUOfBG",
        "outputId": "c34905c5-8992-4776-8576-79fe2fac894b"
      },
      "outputs": [
        {
          "name": "stdout",
          "output_type": "stream",
          "text": [
            "Jumlah Nominal Uang = 120000\n"
          ]
        }
      ],
      "source": [
        "Bayar = int(input(\"Jumlah Nominal Uang = \"))\n",
        "Kembalian = (Bayar-Total)"
      ]
    },
    {
      "cell_type": "code",
      "execution_count": 12,
      "metadata": {
        "colab": {
          "base_uri": "https://localhost:8080/"
        },
        "id": "ah_BOCS_OhBO",
        "outputId": "fa057a58-572e-4b7b-f9bb-51718fe83dce"
      },
      "outputs": [
        {
          "name": "stdout",
          "output_type": "stream",
          "text": [
            "Uang Kembalian =  Rp. 60000\n"
          ]
        }
      ],
      "source": [
        "print(\"Uang Kembalian = \", \"Rp.\",Kembalian)"
      ]
    },
    {
      "cell_type": "markdown",
      "metadata": {
        "id": "GxwQtg9fNQZz"
      },
      "source": [
        "## Modifikasi kode bila diberikan diskon 25%"
      ]
    },
    {
      "cell_type": "code",
      "execution_count": 13,
      "metadata": {
        "colab": {
          "base_uri": "https://localhost:8080/"
        },
        "id": "mm4md64CNROJ",
        "outputId": "c23c00f9-09e9-4226-e527-008eecf0c41f"
      },
      "outputs": [
        {
          "name": "stdout",
          "output_type": "stream",
          "text": [
            " ———Toko Amanah Jaya———\n",
            "masukan harga barang: 5000\n",
            "masukan jumlah baju yang dibeli: 2\n",
            "Total Harga =  Rp. 10000\n",
            "Jumlah Nominal Uang = 20000\n",
            "Uang Kembalian =  Rp. 10000\n"
          ]
        }
      ],
      "source": [
        "print(\" ———Toko Amanah Jaya———\")\n",
        "\n",
        "def total(harga,jumlah):\n",
        "    \"\"\"fungsi untuk menghitung Total bayar\"\"\"\n",
        "    return harga*jumlah\n",
        "\n",
        "# input data\n",
        "harga = int(input(\"masukan harga barang: \"))\n",
        "jumlah = int(input(\"masukan jumlah baju yang dibeli: \"))\n",
        "Total = total(harga,jumlah)\n",
        "\n",
        "# diskon 25% tiap pembelian di atas Rp.100rb\n",
        "if Total > 100000:\n",
        "    Total = Total-0.25*Total\n",
        "\n",
        "print(\"Total Harga = \", \"Rp.\",Total)\n",
        "Bayar = int(input(\"Jumlah Nominal Uang = \"))\n",
        "Kembalian = (Bayar-Total)\n",
        "print(\"Uang Kembalian = \", \"Rp.\",Kembalian)"
      ]
    }
  ],
  "metadata": {
    "colab": {
      "provenance": []
    },
    "kernelspec": {
      "display_name": "Python 3",
      "name": "python3"
    },
    "language_info": {
      "name": "python"
    }
  },
  "nbformat": 4,
  "nbformat_minor": 0
}
